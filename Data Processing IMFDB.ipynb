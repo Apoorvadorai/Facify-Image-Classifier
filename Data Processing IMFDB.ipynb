{
 "cells": [
  {
   "cell_type": "code",
   "execution_count": 131,
   "metadata": {},
   "outputs": [
    {
     "data": {
      "text/html": [
       "<style>.container { width:100% !important; }</style>"
      ],
      "text/plain": [
       "<IPython.core.display.HTML object>"
      ]
     },
     "metadata": {},
     "output_type": "display_data"
    }
   ],
   "source": [
    "import pandas as pd\n",
    "import numpy as np\n",
    "import os\n",
    "from IPython.core.display import display, HTML\n",
    "display(HTML(\"<style>.container { width:100% !important; }</style>\"))"
   ]
  },
  {
   "cell_type": "code",
   "execution_count": 132,
   "metadata": {},
   "outputs": [],
   "source": [
    "image_folder='D:/Northeastern University/Courses/DS 5220 Supervised Machine Learning/Project/IMFDB_final'"
   ]
  },
  {
   "cell_type": "code",
   "execution_count": 150,
   "metadata": {
    "scrolled": true
   },
   "outputs": [],
   "source": [
    "images=[]\n",
    "label_gender=[]\n",
    "label_exp=[]\n",
    "label_occulation=[]\n",
    "label_illum=[]\n",
    "label_age=[]\n",
    "label_pose=[]\n",
    "\n",
    "# Expression\n",
    "express = ['ANGER','HAPPINESS','SADNESS','SURPRISE','FEAR','DISGUST','NEUTRAL']\n",
    "express_dict = {}\n",
    "for i in express:\n",
    "    express_dict[i] = 0\n",
    "\n",
    "allFiles = os.listdir(image_folder)[1:] # list all folders in IMFDB_final\n",
    "\n",
    "for f in allFiles:     # Actor\n",
    "    subfolders = os.listdir(image_folder+'/'+f)[1:]\n",
    "    for sf in subfolders:      #sf is the movie name folder \n",
    "        # get .txt file name\n",
    "        temp = os.listdir(image_folder + '/' + f + '/' + sf)\n",
    "        for t in temp:\n",
    "            if t.endswith('.txt'):\n",
    "                txt_file_name = image_folder + '/' + f + '/' + sf+ '/'+ t\n",
    "                #print(txt_file_name)\n",
    "                break\n",
    "        im_base_path = str(image_folder + '/' + f + '/' + sf + '/images') \n",
    "        lines = open(txt_file_name).readlines()   # should be a list\n",
    "        \n",
    "        for l in lines[1:]:\n",
    "            words = l.split('\\t')\n",
    "            if len(words) == 16:   # there are 16 fields\n",
    "                im_path = words[1]\n",
    "                gender=words[9]\n",
    "                expression = words[10]\n",
    "                occulation = words[11] \n",
    "                illumination = words[12]\n",
    "                age=words[13]\n",
    "                pose = words[14]\n",
    "                \n",
    "                if expression in express_dict:\n",
    "                    images.append(im_base_path+ '/' +im_path) # create image path\n",
    "                    # add labels\n",
    "                    label_gender.append(gender) \n",
    "                    label_exp.append(expression)\n",
    "                    label_occulation.append(occulation)\n",
    "                    label_illum.append(illumination)\n",
    "                    label_age.append(age)\n",
    "                    label_pose.append(pose)\n",
    "                    \n",
    "                    express_dict[expression]+=1\n",
    "            \n",
    "            elif len(words) == 17:   # there are 17 fields\n",
    "                im_path = words[2]\n",
    "                gender=words[10]\n",
    "                expression = words[11]\n",
    "                occulation = words[12] \n",
    "                illumination = words[13]\n",
    "                age=words[14]\n",
    "                pose = words[15]\n",
    "                \n",
    "                if expression in express_dict :\n",
    "                    images.append(im_base_path+ '/' +im_path) # create image path\n",
    "                    # add labels\n",
    "                    label_gender.append(gender) \n",
    "                    label_exp.append(expression)\n",
    "                    label_occulation.append(occulation)\n",
    "                    label_illum.append(illumination)\n",
    "                    label_age.append(age)\n",
    "                    label_pose.append(pose)\n",
    "                    \n",
    "                    express_dict[expression]+=1\n",
    "                    \n",
    "output_file = open('images_labels.csv','w')\n",
    "for i in range(len(images)):\n",
    "    output_file.write(images[i]+','+ label_gender[i] + ',' + label_exp[i] + ',' + label_occulation[i] +',' + label_illum[i] + ',' +label_age[i]+ ',' + label_pose[i] +'\\n')\n",
    "output_file.close()"
   ]
  },
  {
   "cell_type": "code",
   "execution_count": 151,
   "metadata": {
    "scrolled": true
   },
   "outputs": [
    {
     "data": {
      "text/plain": [
       "{'ANGER': 2454,\n",
       " 'HAPPINESS': 7889,\n",
       " 'SADNESS': 3327,\n",
       " 'SURPRISE': 1630,\n",
       " 'FEAR': 574,\n",
       " 'DISGUST': 3894,\n",
       " 'NEUTRAL': 8541}"
      ]
     },
     "execution_count": 151,
     "metadata": {},
     "output_type": "execute_result"
    }
   ],
   "source": [
    "express_dict"
   ]
  },
  {
   "cell_type": "code",
   "execution_count": 152,
   "metadata": {},
   "outputs": [
    {
     "name": "stdout",
     "output_type": "stream",
     "text": [
      "28309 28309 28309 28309 28309 28309 28309\n"
     ]
    }
   ],
   "source": [
    "print(len(images),len(label_age),len(label_exp),len(label_gender),len(label_illum),len(label_occulation),len(label_pose))"
   ]
  },
  {
   "cell_type": "code",
   "execution_count": null,
   "metadata": {},
   "outputs": [],
   "source": []
  }
 ],
 "metadata": {
  "kernelspec": {
   "display_name": "Python 3",
   "language": "python",
   "name": "python3"
  },
  "language_info": {
   "codemirror_mode": {
    "name": "ipython",
    "version": 3
   },
   "file_extension": ".py",
   "mimetype": "text/x-python",
   "name": "python",
   "nbconvert_exporter": "python",
   "pygments_lexer": "ipython3",
   "version": "3.7.6"
  }
 },
 "nbformat": 4,
 "nbformat_minor": 4
}
